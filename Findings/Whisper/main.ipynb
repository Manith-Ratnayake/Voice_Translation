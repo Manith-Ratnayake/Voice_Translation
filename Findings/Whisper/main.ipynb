{
 "cells": [
  {
   "cell_type": "markdown",
   "metadata": {},
   "source": [
    "### Command Line Implementation"
   ]
  },
  {
   "cell_type": "code",
   "execution_count": null,
   "metadata": {},
   "outputs": [],
   "source": [
    "!pip  install git+https://github.com/openai/whisper.git\n",
    "# ALREADY installed in Windows   #sudo apt update && sudo apt install ffmpeg  "
   ]
  },
  {
   "cell_type": "code",
   "execution_count": 1,
   "metadata": {},
   "outputs": [
    {
     "name": "stdout",
     "output_type": "stream",
     "text": [
      "[00:00.000 --> 00:03.000]  The birch canoes slid on the smooth planks.\n",
      "[00:04.000 --> 00:06.000]  Glue the sheet to the dark blue background.\n",
      "[00:07.000 --> 00:10.000]  It is easy to tell the depth of a well.\n",
      "[00:11.000 --> 00:13.000]  These days a chicken leg is a rare dish.\n",
      "[00:14.000 --> 00:16.000]  Rice is often served in round bowls.\n",
      "[00:17.000 --> 00:19.000]  The juice of lemons makes fine punch.\n",
      "[00:20.000 --> 00:22.000]  The box was thrown beside the park truck.\n",
      "[00:23.000 --> 00:26.000]  The hogs were fed chopped corn and garbage.\n",
      "[00:27.000 --> 00:29.000]  Four hours of steady work faced us.\n",
      "[00:30.000 --> 00:32.000]  A large size of stockings is hard to sell.\n"
     ]
    },
    {
     "name": "stderr",
     "output_type": "stream",
     "text": [
      "C:\\Users\\ashwinir\\AppData\\Local\\Programs\\Python\\Python312\\Lib\\site-packages\\whisper\\transcribe.py:132: UserWarning: FP16 is not supported on CPU; using FP32 instead\n",
      "  warnings.warn(\"FP16 is not supported on CPU; using FP32 instead\")\n"
     ]
    }
   ],
   "source": [
    "!whisper \"someaudio.wav\" --model medium.en"
   ]
  },
  {
   "cell_type": "markdown",
   "metadata": {},
   "source": [
    "### High Level Implementation"
   ]
  },
  {
   "cell_type": "code",
   "execution_count": null,
   "metadata": {},
   "outputs": [],
   "source": [
    "# Not working even whisper is in computer, has to fix \n",
    "\n",
    "!pip  install whisper\n",
    "import whisper\n",
    "\n",
    "model = whisper.load_model('base')\n",
    "result = model.transcribe('idiom.wa', fp16=False)\n",
    "result['text']"
   ]
  },
  {
   "cell_type": "markdown",
   "metadata": {},
   "source": [
    "### Lower Level Implementation"
   ]
  },
  {
   "cell_type": "code",
   "execution_count": null,
   "metadata": {},
   "outputs": [],
   "source": [
    "import whisper\n",
    "\n",
    "model = whisper.load_model(\"base\")\n",
    "audio = whisper.load_audio(\"idiom.wav\")\n",
    "audio = whisper.pad_or_trim(audio)\n",
    "\n",
    "\n",
    "mel = whisper.log_mel_spectrogram(audio).to(model.device)\n",
    "_ , probs = model.detect_language(mel)\n",
    "print(f\"Detected Languages : {max(probs, key=probs.get)}\")\n",
    "\n",
    "\n",
    "options = whisper.DecodingOptions()\n",
    "result = whisper.decode(model, mel, options)\n",
    "\n",
    "print(result.Text)"
   ]
  }
 ],
 "metadata": {
  "kernelspec": {
   "display_name": "Python 3",
   "language": "python",
   "name": "python3"
  },
  "language_info": {
   "codemirror_mode": {
    "name": "ipython",
    "version": 3
   },
   "file_extension": ".py",
   "mimetype": "text/x-python",
   "name": "python",
   "nbconvert_exporter": "python",
   "pygments_lexer": "ipython3",
   "version": "3.13.0"
  }
 },
 "nbformat": 4,
 "nbformat_minor": 4
}
