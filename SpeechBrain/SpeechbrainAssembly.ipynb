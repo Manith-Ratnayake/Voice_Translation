{
  "cells": [
    {
      "cell_type": "code",
      "execution_count": 1,
      "metadata": {
        "id": "CvSwVlEtmOYj"
      },
      "outputs": [
        {
          "name": "stdout",
          "output_type": "stream",
          "text": [
            "Requirement already satisfied: speechbrain in c:\\users\\ashwinir\\appdata\\local\\programs\\python\\python312\\lib\\site-packages (1.0.2)\n",
            "Requirement already satisfied: hyperpyyaml in c:\\users\\ashwinir\\appdata\\local\\programs\\python\\python312\\lib\\site-packages (from speechbrain) (1.2.2)\n",
            "Requirement already satisfied: joblib in c:\\users\\ashwinir\\appdata\\local\\programs\\python\\python312\\lib\\site-packages (from speechbrain) (1.4.2)\n",
            "Requirement already satisfied: numpy in c:\\users\\ashwinir\\appdata\\local\\programs\\python\\python312\\lib\\site-packages (from speechbrain) (1.26.4)\n",
            "Requirement already satisfied: packaging in c:\\users\\ashwinir\\appdata\\local\\programs\\python\\python312\\lib\\site-packages (from speechbrain) (24.2)\n",
            "Requirement already satisfied: scipy in c:\\users\\ashwinir\\appdata\\local\\programs\\python\\python312\\lib\\site-packages (from speechbrain) (1.12.0)\n",
            "Requirement already satisfied: sentencepiece in c:\\users\\ashwinir\\appdata\\local\\programs\\python\\python312\\lib\\site-packages (from speechbrain) (0.2.0)\n",
            "Requirement already satisfied: torch>=1.9 in c:\\users\\ashwinir\\appdata\\local\\programs\\python\\python312\\lib\\site-packages (from speechbrain) (2.5.1)\n",
            "Requirement already satisfied: torchaudio in c:\\users\\ashwinir\\appdata\\local\\programs\\python\\python312\\lib\\site-packages (from speechbrain) (2.5.1)\n",
            "Requirement already satisfied: tqdm in c:\\users\\ashwinir\\appdata\\local\\programs\\python\\python312\\lib\\site-packages (from speechbrain) (4.67.1)\n",
            "Requirement already satisfied: huggingface-hub in c:\\users\\ashwinir\\appdata\\local\\programs\\python\\python312\\lib\\site-packages (from speechbrain) (0.28.0)\n",
            "Requirement already satisfied: filelock in c:\\users\\ashwinir\\appdata\\local\\programs\\python\\python312\\lib\\site-packages (from torch>=1.9->speechbrain) (3.16.1)\n",
            "Requirement already satisfied: typing-extensions>=4.8.0 in c:\\users\\ashwinir\\appdata\\local\\programs\\python\\python312\\lib\\site-packages (from torch>=1.9->speechbrain) (4.12.2)\n",
            "Requirement already satisfied: networkx in c:\\users\\ashwinir\\appdata\\local\\programs\\python\\python312\\lib\\site-packages (from torch>=1.9->speechbrain) (3.4.2)\n",
            "Requirement already satisfied: jinja2 in c:\\users\\ashwinir\\appdata\\local\\programs\\python\\python312\\lib\\site-packages (from torch>=1.9->speechbrain) (3.1.4)\n",
            "Requirement already satisfied: fsspec in c:\\users\\ashwinir\\appdata\\local\\programs\\python\\python312\\lib\\site-packages (from torch>=1.9->speechbrain) (2024.10.0)\n",
            "Requirement already satisfied: setuptools in c:\\users\\ashwinir\\appdata\\local\\programs\\python\\python312\\lib\\site-packages (from torch>=1.9->speechbrain) (75.5.0)\n",
            "Requirement already satisfied: sympy==1.13.1 in c:\\users\\ashwinir\\appdata\\local\\programs\\python\\python312\\lib\\site-packages (from torch>=1.9->speechbrain) (1.13.1)\n",
            "Requirement already satisfied: mpmath<1.4,>=1.1.0 in c:\\users\\ashwinir\\appdata\\local\\programs\\python\\python312\\lib\\site-packages (from sympy==1.13.1->torch>=1.9->speechbrain) (1.3.0)\n",
            "Requirement already satisfied: pyyaml>=5.1 in c:\\users\\ashwinir\\appdata\\local\\programs\\python\\python312\\lib\\site-packages (from huggingface-hub->speechbrain) (6.0.2)\n",
            "Requirement already satisfied: requests in c:\\users\\ashwinir\\appdata\\local\\programs\\python\\python312\\lib\\site-packages (from huggingface-hub->speechbrain) (2.32.3)\n",
            "Requirement already satisfied: colorama in c:\\users\\ashwinir\\appdata\\local\\programs\\python\\python312\\lib\\site-packages (from tqdm->speechbrain) (0.4.6)\n",
            "Requirement already satisfied: ruamel.yaml>=0.17.28 in c:\\users\\ashwinir\\appdata\\local\\programs\\python\\python312\\lib\\site-packages (from hyperpyyaml->speechbrain) (0.18.10)\n",
            "Requirement already satisfied: ruamel.yaml.clib>=0.2.7 in c:\\users\\ashwinir\\appdata\\local\\programs\\python\\python312\\lib\\site-packages (from ruamel.yaml>=0.17.28->hyperpyyaml->speechbrain) (0.2.12)\n",
            "Requirement already satisfied: MarkupSafe>=2.0 in c:\\users\\ashwinir\\appdata\\local\\programs\\python\\python312\\lib\\site-packages (from jinja2->torch>=1.9->speechbrain) (3.0.2)\n",
            "Requirement already satisfied: charset-normalizer<4,>=2 in c:\\users\\ashwinir\\appdata\\local\\programs\\python\\python312\\lib\\site-packages (from requests->huggingface-hub->speechbrain) (3.4.1)\n",
            "Requirement already satisfied: idna<4,>=2.5 in c:\\users\\ashwinir\\appdata\\local\\programs\\python\\python312\\lib\\site-packages (from requests->huggingface-hub->speechbrain) (3.10)\n",
            "Requirement already satisfied: urllib3<3,>=1.21.1 in c:\\users\\ashwinir\\appdata\\local\\programs\\python\\python312\\lib\\site-packages (from requests->huggingface-hub->speechbrain) (2.3.0)\n",
            "Requirement already satisfied: certifi>=2017.4.17 in c:\\users\\ashwinir\\appdata\\local\\programs\\python\\python312\\lib\\site-packages (from requests->huggingface-hub->speechbrain) (2024.12.14)\n",
            "Requirement already satisfied: assemblyai in c:\\users\\ashwinir\\appdata\\local\\programs\\python\\python312\\lib\\site-packages (0.36.0)\n",
            "Requirement already satisfied: httpx>=0.19.0 in c:\\users\\ashwinir\\appdata\\local\\programs\\python\\python312\\lib\\site-packages (from assemblyai) (0.28.1)\n",
            "Requirement already satisfied: pydantic>=1.10.17 in c:\\users\\ashwinir\\appdata\\local\\programs\\python\\python312\\lib\\site-packages (from assemblyai) (2.10.4)\n",
            "Requirement already satisfied: typing-extensions>=3.7 in c:\\users\\ashwinir\\appdata\\local\\programs\\python\\python312\\lib\\site-packages (from assemblyai) (4.12.2)\n",
            "Requirement already satisfied: websockets>=11.0 in c:\\users\\ashwinir\\appdata\\local\\programs\\python\\python312\\lib\\site-packages (from assemblyai) (14.1)\n",
            "Requirement already satisfied: anyio in c:\\users\\ashwinir\\appdata\\local\\programs\\python\\python312\\lib\\site-packages (from httpx>=0.19.0->assemblyai) (4.8.0)\n",
            "Requirement already satisfied: certifi in c:\\users\\ashwinir\\appdata\\local\\programs\\python\\python312\\lib\\site-packages (from httpx>=0.19.0->assemblyai) (2024.12.14)\n",
            "Requirement already satisfied: httpcore==1.* in c:\\users\\ashwinir\\appdata\\local\\programs\\python\\python312\\lib\\site-packages (from httpx>=0.19.0->assemblyai) (1.0.7)\n",
            "Requirement already satisfied: idna in c:\\users\\ashwinir\\appdata\\local\\programs\\python\\python312\\lib\\site-packages (from httpx>=0.19.0->assemblyai) (3.10)\n",
            "Requirement already satisfied: h11<0.15,>=0.13 in c:\\users\\ashwinir\\appdata\\local\\programs\\python\\python312\\lib\\site-packages (from httpcore==1.*->httpx>=0.19.0->assemblyai) (0.14.0)\n",
            "Requirement already satisfied: annotated-types>=0.6.0 in c:\\users\\ashwinir\\appdata\\local\\programs\\python\\python312\\lib\\site-packages (from pydantic>=1.10.17->assemblyai) (0.7.0)\n",
            "Requirement already satisfied: pydantic-core==2.27.2 in c:\\users\\ashwinir\\appdata\\local\\programs\\python\\python312\\lib\\site-packages (from pydantic>=1.10.17->assemblyai) (2.27.2)\n",
            "Requirement already satisfied: sniffio>=1.1 in c:\\users\\ashwinir\\appdata\\local\\programs\\python\\python312\\lib\\site-packages (from anyio->httpx>=0.19.0->assemblyai) (1.3.1)\n"
          ]
        }
      ],
      "source": [
        "!pip install speechbrain\n",
        "!pip install assemblyai"
      ]
    },
    {
      "cell_type": "code",
      "execution_count": 4,
      "metadata": {
        "colab": {
          "base_uri": "https://localhost:8080/",
          "height": 356
        },
        "id": "FM_tCmWro1sC",
        "outputId": "bea06a96-d227-4a87-80c2-a0176096f2fc"
      },
      "outputs": [
        {
          "ename": "ModuleNotFoundError",
          "evalue": "No module named 'speechbrain'",
          "output_type": "error",
          "traceback": [
            "\u001b[1;31m---------------------------------------------------------------------------\u001b[0m",
            "\u001b[1;31mModuleNotFoundError\u001b[0m                       Traceback (most recent call last)",
            "Cell \u001b[1;32mIn[4], line 1\u001b[0m\n\u001b[1;32m----> 1\u001b[0m \u001b[38;5;28;01mimport\u001b[39;00m\u001b[38;5;250m \u001b[39m\u001b[38;5;21;01mspeechbrain\u001b[39;00m\u001b[38;5;250m \u001b[39m\u001b[38;5;28;01mas\u001b[39;00m\u001b[38;5;250m \u001b[39m\u001b[38;5;21;01msb\u001b[39;00m\n\u001b[0;32m      2\u001b[0m \u001b[38;5;28;01mimport\u001b[39;00m\u001b[38;5;250m \u001b[39m\u001b[38;5;21;01massemblyai\u001b[39;00m\u001b[38;5;250m \u001b[39m\u001b[38;5;28;01mas\u001b[39;00m\u001b[38;5;250m \u001b[39m\u001b[38;5;21;01maai\u001b[39;00m\n\u001b[0;32m      4\u001b[0m aai\u001b[38;5;241m.\u001b[39msettings\u001b[38;5;241m.\u001b[39mapi_key \u001b[38;5;241m=\u001b[39m \u001b[38;5;124m\"\u001b[39m\u001b[38;5;124me9e8c88881ad421d971bfcecbd56096e\u001b[39m\u001b[38;5;124m\"\u001b[39m\n",
            "\u001b[1;31mModuleNotFoundError\u001b[0m: No module named 'speechbrain'"
          ]
        }
      ],
      "source": [
        "import speechbrain as sb\n",
        "import assemblyai as aai\n",
        "\n",
        "aai.settings.api_key = \"e9e8c88881ad421d971bfcecbd56096e\"\n",
        "transcriber = aai.Transcriber()\n",
        "\n",
        "transcript = transcriber.transcribe(\"https://assembly.ai/news.mp4\")\n",
        "transcript = transcriber.transcribe(\"fileName.wav\")\n",
        "\n",
        "print(transcript.text)"
      ]
    }
  ],
  "metadata": {
    "colab": {
      "provenance": []
    },
    "kernelspec": {
      "display_name": "Python 3",
      "name": "python3"
    },
    "language_info": {
      "codemirror_mode": {
        "name": "ipython",
        "version": 3
      },
      "file_extension": ".py",
      "mimetype": "text/x-python",
      "name": "python",
      "nbconvert_exporter": "python",
      "pygments_lexer": "ipython3",
      "version": "3.12.1"
    }
  },
  "nbformat": 4,
  "nbformat_minor": 0
}
