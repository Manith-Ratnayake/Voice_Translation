{
  "cells": [
    {
      "cell_type": "code",
      "execution_count": null,
      "metadata": {
        "id": "CvSwVlEtmOYj"
      },
      "outputs": [],
      "source": [
        "!pip install speechbrain\n",
        "!pip install assemblyai"
      ]
    },
    {
      "cell_type": "code",
      "execution_count": null,
      "metadata": {
        "colab": {
          "base_uri": "https://localhost:8080/",
          "height": 356
        },
        "id": "FM_tCmWro1sC",
        "outputId": "bea06a96-d227-4a87-80c2-a0176096f2fc"
      },
      "outputs": [],
      "source": [
        "import speechbrain as sb\n",
        "import assemblyai as aai\n",
        "\n",
        "aai.settings.api_key = \"e9e8c88881ad421d971bfcecbd56096e\"\n",
        "transcriber = aai.Transcriber()\n",
        "\n",
        "transcript = transcriber.transcribe(\"https://assembly.ai/news.mp4\")\n",
        "transcript = transcriber.transcribe(\"fileName.wav\")\n",
        "\n",
        "print(transcript.text)"
      ]
    }
  ],
  "metadata": {
    "colab": {
      "provenance": []
    },
    "kernelspec": {
      "display_name": "Python 3",
      "name": "python3"
    },
    "language_info": {
      "name": "python"
    }
  },
  "nbformat": 4,
  "nbformat_minor": 0
}
